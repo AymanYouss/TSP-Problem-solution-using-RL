{
 "cells": [
  {
   "cell_type": "markdown",
   "metadata": {},
   "source": [
    "Importing the modules needed for the project"
   ]
  },
  {
   "cell_type": "code",
   "execution_count": null,
   "metadata": {},
   "outputs": [],
   "source": [
    "import pandas as pd\n",
    "import numpy as np\n",
    "import datetime as dt\n",
    "from tqdm.notebook import tqdm_notebook\n",
    "import seaborn as sns\n",
    "import matplotlib.pyplot as plt\n",
    "from scipy.spatial.distance import squareform, pdist\n",
    "import haversine as hs\n",
    "from scipy.spatial.distance import cdist\n",
    "from python_tsp.heuristics import solve_tsp_local_search\n"
   ]
  },
  {
   "cell_type": "markdown",
   "metadata": {},
   "source": [
    "Collecting the data (change the name of the file for another data)"
   ]
  },
  {
   "cell_type": "code",
   "execution_count": null,
   "metadata": {},
   "outputs": [],
   "source": [
    "\n",
    "data_csv = pd.read_csv(\"clean_data.csv\")\n",
    "df = pd.DataFrame(data_csv)\n"
   ]
  },
  {
   "cell_type": "markdown",
   "metadata": {},
   "source": [
    "Cleaning the data"
   ]
  },
  {
   "cell_type": "code",
   "execution_count": null,
   "metadata": {},
   "outputs": [],
   "source": [
    "df.drop_duplicates(subset=['CourierId','Latitude','Longitude'],keep='first',inplace=True)\n",
    "df = df.dropna(axis=0)\n",
    "index_list = [i for i in range(len(df))]\n",
    "df = df.set_index([index_list])\n",
    "df"
   ]
  },
  {
   "cell_type": "markdown",
   "metadata": {},
   "source": [
    "The code for only one Courier (Change the Courier ID in the first line of code)"
   ]
  },
  {
   "cell_type": "code",
   "execution_count": null,
   "metadata": {},
   "outputs": [],
   "source": [
    "ID = 324293 # <----- Change the id here\n",
    "new_df = df.loc[df.CourierId == ID]\n",
    "new_df = new_df.set_index([[i for i in range(len(new_df))]])\n",
    "dist_matrix = [[0]*len(new_df) for _ in range(len(new_df))]\n",
    "\n",
    "for j in new_df.index:\n",
    "    for k in new_df.index:\n",
    "        loc1=(new_df.Latitude[j], new_df.Longitude[j])\n",
    "        loc2=(new_df.Latitude[k], new_df.Longitude[k])\n",
    "        dist_matrix[j][k] = hs.haversine(loc1,loc2)\n",
    "\n",
    "\n",
    "dist_matrix = np.array(dist_matrix)\n",
    "arr1,rl_dis = solve_tsp_local_search(dist_matrix)\n",
    "traj =' -> '.join([str(b) for b in arr1])\n",
    "print(\"For Courier with ID:\"+str(ID)+\",\\nThe trajectory is :\",traj)\n",
    "print(\"The distance is :\",rl_dis,\"km\")"
   ]
  }
 ],
 "metadata": {
  "kernelspec": {
   "display_name": "Python 3.10.0 64-bit",
   "language": "python",
   "name": "python3"
  },
  "language_info": {
   "codemirror_mode": {
    "name": "ipython",
    "version": 3
   },
   "file_extension": ".py",
   "mimetype": "text/x-python",
   "name": "python",
   "nbconvert_exporter": "python",
   "pygments_lexer": "ipython3",
   "version": "3.10.0"
  },
  "orig_nbformat": 4,
  "vscode": {
   "interpreter": {
    "hash": "6147a3875682d3b35bc881930f44cfb7e386494aa5ac23aa95e7576a6d333a4e"
   }
  }
 },
 "nbformat": 4,
 "nbformat_minor": 2
}

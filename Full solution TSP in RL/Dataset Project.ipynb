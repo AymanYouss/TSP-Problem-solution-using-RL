{
 "cells": [
  {
   "cell_type": "markdown",
   "metadata": {},
   "source": [
    "Importing the modules needed for the project"
   ]
  },
  {
   "cell_type": "code",
   "execution_count": null,
   "metadata": {},
   "outputs": [],
   "source": [
    "import pandas as pd\n",
    "import numpy as np\n",
    "import datetime as dt\n",
    "from tqdm.notebook import tqdm_notebook\n",
    "import seaborn as sns\n",
    "import matplotlib.pyplot as plt\n",
    "from scipy.spatial.distance import squareform, pdist\n",
    "import haversine as hs\n",
    "from scipy.spatial.distance import cdist\n",
    "import warnings\n",
    "warnings.filterwarnings('ignore')\n",
    "from create_dist_matrix import create_dist_matrix, create_dist_mat_2\n",
    "from get_avail_act import get_avail_act\n",
    "from get_best_action import get_best_action\n",
    "from get_or_tools_sol import or_solution\n",
    "from get_random_traj import get_random_traj\n",
    "from train import train_model\n",
    "import numpy as np\n"
   ]
  },
  {
   "cell_type": "markdown",
   "metadata": {},
   "source": [
    "Collecting the data (change the name of the file for another data)"
   ]
  },
  {
   "cell_type": "code",
   "execution_count": null,
   "metadata": {},
   "outputs": [],
   "source": [
    "\n",
    "data_csv = pd.read_csv(\"clean_data.csv\")\n",
    "df = pd.DataFrame(data_csv)\n"
   ]
  },
  {
   "cell_type": "markdown",
   "metadata": {},
   "source": [
    "Cleaning the data"
   ]
  },
  {
   "cell_type": "code",
   "execution_count": null,
   "metadata": {},
   "outputs": [],
   "source": [
    "df.drop_duplicates(subset=['CourierId','Latitude','Longitude'],keep='first',inplace=True)\n",
    "\n",
    "df"
   ]
  },
  {
   "cell_type": "code",
   "execution_count": null,
   "metadata": {},
   "outputs": [],
   "source": [
    "df = df.dropna(axis=0)\n",
    "index_list = [i for i in range(len(df))]\n",
    "df = df.set_index([index_list])\n",
    "\n",
    "df"
   ]
  },
  {
   "cell_type": "markdown",
   "metadata": {},
   "source": [
    "Reinforcement learning Algorithm"
   ]
  },
  {
   "cell_type": "code",
   "execution_count": null,
   "metadata": {},
   "outputs": [],
   "source": [
    "alpha = 0.012\n",
    "gamma = 0.4\n",
    "def tsp_solver(dist_mat,alpha=0.2,gamma=0.8):\n",
    "    #alpha is the learning rate\n",
    "    #gamma is the discount factor\n",
    "    n_dest = dist_mat.shape[0]\n",
    "    # Train RL model\n",
    "    q = train_model(dist_mat, n_train = 2000, gamma = gamma, alpha = alpha)# Get trained transition matrix\n",
    "\n",
    "    #print(q)\n",
    "\n",
    "    # Use model to find optimum trajectory\n",
    "    state = [0]\n",
    "    distance_travel = 0.\n",
    "    posible_actions = get_avail_act(state, n_dest)\n",
    "    while posible_actions: # until all destinations are visited\n",
    "        action = get_best_action(state[-1], posible_actions, q)\n",
    "        distance_travel += dist_mat[state[-1], action]\n",
    "        state.append(action)\n",
    "        posible_actions = get_avail_act(state, n_dest)\n",
    "\n",
    "    #Back to warehouse\n",
    "    action = 0\n",
    "    distance_travel += dist_mat[state[-1], action]\n",
    "    state.append(action)\n",
    "\n",
    "    # Get Best optimization possible\n",
    "    #print(\"\\nGoogle Results: \")\n",
    "    best_dist, google_route = or_solution(dist_mat)\n",
    "\n",
    "    # Get random tour\n",
    "    random_dist, random_route = get_random_traj(dist_mat)\n",
    "\n",
    "    #Out RL results\n",
    "    traj =' -> '.join([str(b) for b in state])\n",
    "    #print(f\"Best trajectory found with RL: \\n {traj}\" )\n",
    "    #print(f\"Total distance travelled with this traj: {distance_travel}\\n\")\n",
    "    slow_pctg = 100*(-1+distance_travel/best_dist)\n",
    "    random_pctg = 100*(-1+distance_travel/random_dist)\n",
    "    return slow_pctg, traj, distance_travel, google_route, best_dist\n",
    "    #print(f\"RL solution is {100*(-1+distance_travel/best_dist)}% slower than google's solution\")\n",
    "\n",
    "dist_list = [0] * len(df)\n",
    "df['Distance'] = dist_list\n",
    "\n"
   ]
  },
  {
   "cell_type": "markdown",
   "metadata": {},
   "source": [
    "Looping the algorithm for every courier and outputing the trajectory and distance (without adding the distances to the dataframe)"
   ]
  },
  {
   "cell_type": "code",
   "execution_count": null,
   "metadata": {},
   "outputs": [],
   "source": [
    "for i in set(df.CourierId):\n",
    "    print(\"Current ID :\",i)\n",
    "    new_df = df.loc[df.CourierId == i]\n",
    "    new_df = new_df.set_index([[i for i in range(len(new_df))]])\n",
    "    dist_matrix = [[0]*len(new_df) for _ in range(len(new_df))]\n",
    "\n",
    "    for j in new_df.index:\n",
    "        for k in new_df.index:\n",
    "            loc1=(new_df.Latitude[j], new_df.Longitude[j])\n",
    "            loc2=(new_df.Latitude[k], new_df.Longitude[k])\n",
    "            dist_matrix[j][k] = hs.haversine(loc1,loc2)\n",
    "    \n",
    "    dist_matrix = np.array(dist_matrix)\n",
    "\n",
    "\n",
    "\n",
    "\n",
    "    slow_pctg, rl_route, rl_dist, google_route, google_dist = tsp_solver(dist_matrix, alpha=alpha, gamma=gamma)\n",
    "\n",
    "    \n",
    "    print(\"For Courier with ID:\"+str(i)+\",\\nThe trajectory is :\",rl_route)\n",
    "    print(\"The distance is :\",rl_dist,\"km\")\n",
    "    print(\"=======================================\")\n"
   ]
  },
  {
   "cell_type": "markdown",
   "metadata": {},
   "source": [
    "Looping the algorithm for every courier (Adding the distances to the dataframe)"
   ]
  },
  {
   "cell_type": "code",
   "execution_count": null,
   "metadata": {},
   "outputs": [],
   "source": [
    "distance_index_list = [0]*len(df)\n",
    "df['Distance'] = distance_index_list\n",
    "for i in set(df.CourierId):\n",
    "    print(\"Current ID :\",i)\n",
    "    new_df = df.loc[df.CourierId == i]\n",
    "    new_df = new_df.set_index([[i for i in range(len(new_df))]])\n",
    "    dist_matrix = [[0]*len(new_df) for _ in range(len(new_df))]\n",
    "\n",
    "    for j in new_df.index:\n",
    "        for k in new_df.index:\n",
    "            loc1=(new_df.Latitude[j], new_df.Longitude[j])\n",
    "            loc2=(new_df.Latitude[k], new_df.Longitude[k])\n",
    "            dist_matrix[j][k] = hs.haversine(loc1,loc2)\n",
    "    \n",
    "    dist_matrix = np.array(dist_matrix)\n",
    "\n",
    "    slow_pctg, rl_route, rl_dist, google_route, google_dist = tsp_solver(dist_matrix, alpha=alpha, gamma=gamma)\n",
    "    \n",
    "    for idx in df.index:\n",
    "        if df.CourierId[idx] == i:\n",
    "            df.Distance[idx] = rl_dist"
   ]
  },
  {
   "cell_type": "code",
   "execution_count": null,
   "metadata": {},
   "outputs": [],
   "source": [
    "df"
   ]
  }
 ],
 "metadata": {
  "kernelspec": {
   "display_name": "Python 3.10.0 64-bit",
   "language": "python",
   "name": "python3"
  },
  "language_info": {
   "codemirror_mode": {
    "name": "ipython",
    "version": 3
   },
   "file_extension": ".py",
   "mimetype": "text/x-python",
   "name": "python",
   "nbconvert_exporter": "python",
   "pygments_lexer": "ipython3",
   "version": "3.10.0"
  },
  "orig_nbformat": 4,
  "vscode": {
   "interpreter": {
    "hash": "6147a3875682d3b35bc881930f44cfb7e386494aa5ac23aa95e7576a6d333a4e"
   }
  }
 },
 "nbformat": 4,
 "nbformat_minor": 2
}

{
 "cells": [
  {
   "cell_type": "code",
   "execution_count": null,
   "metadata": {},
   "outputs": [],
   "source": [
    "import pandas as pd\n",
    "import numpy as np\n",
    "import datetime as dt\n",
    "from tqdm.notebook import tqdm_notebook\n",
    "import seaborn as sns\n",
    "import matplotlib.pyplot as plt\n",
    "from scipy.spatial.distance import squareform, pdist\n",
    "import haversine as hs\n",
    "from scipy.spatial.distance import cdist\n",
    "from create_dist_matrix import create_dist_matrix, create_dist_mat_2\n",
    "from get_avail_act import get_avail_act\n",
    "from get_best_action import get_best_action\n",
    "from get_or_tools_sol import or_solution\n",
    "from get_random_traj import get_random_traj\n",
    "from train import train_model\n",
    "import numpy as np\n",
    "import warnings\n",
    "warnings.filterwarnings('ignore')\n",
    "\n",
    "import pandas as pd\n",
    "\n",
    "data_csv = pd.read_csv(\"clean_data.csv\")\n",
    "df = pd.DataFrame(data_csv)"
   ]
  },
  {
   "cell_type": "code",
   "execution_count": null,
   "metadata": {},
   "outputs": [],
   "source": [
    "df.drop_duplicates(subset=['CourierId','Latitude','Longitude'],keep='first',inplace=True)\n",
    "\n",
    "df"
   ]
  },
  {
   "cell_type": "code",
   "execution_count": null,
   "metadata": {},
   "outputs": [],
   "source": [
    "df = df.dropna(axis=0)\n",
    "index_list = [i for i in range(len(df))]\n",
    "df = df.set_index([index_list])\n",
    "\n",
    "df"
   ]
  },
  {
   "cell_type": "code",
   "execution_count": null,
   "metadata": {},
   "outputs": [],
   "source": [
    "dist_list = [0] * len(df)\n",
    "df['Distance'] = dist_list\n",
    "new_df = df.loc[df.CourierId == 324293]\n",
    "new_df = new_df.set_index([[i for i in range(len(new_df))]])\n",
    "dist_matrix = [[0]*len(new_df) for _ in range(len(new_df))]\n",
    "\n",
    "for j in new_df.index:\n",
    "    for k in new_df.index:\n",
    "        loc1=(new_df.Latitude[j], new_df.Longitude[j])\n",
    "        loc2=(new_df.Latitude[k], new_df.Longitude[k])\n",
    "        dist_matrix[j][k] = hs.haversine(loc1,loc2)\n",
    "\n",
    "dist_matrix = np.array(dist_matrix)\n",
    "dist_matrix"
   ]
  }
 ],
 "metadata": {
  "language_info": {
   "name": "python"
  },
  "orig_nbformat": 4
 },
 "nbformat": 4,
 "nbformat_minor": 2
}
